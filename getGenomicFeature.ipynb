{
 "cells": [
  {
   "cell_type": "code",
   "execution_count": 1,
   "metadata": {
    "collapsed": true
   },
   "outputs": [],
   "source": [
    "import numpy as np\n",
    "import matplotlib.pyplot as plt\n",
    "import os"
   ]
  },
  {
   "cell_type": "code",
   "execution_count": null,
   "metadata": {
    "collapsed": true
   },
   "outputs": [],
   "source": [
    "chrs_length = [249250621,243199373,198022430,191154276,180915260,171115067,159138663,146364022,141213431,135534747,135006516,133851895,115169878,107349540,102531392,90354753,81195210,78077248,59128983,63025520,48129895,51304566]\n",
    "input_file = open('./hg19.MboI.txt_byMing.txt').readlines()"
   ]
  },
  {
   "cell_type": "code",
   "execution_count": null,
   "metadata": {
    "collapsed": true
   },
   "outputs": [],
   "source": [
    "chromosomes = []\n",
    "for i in range(0, 22):\n",
    "    chromosomes.append(np.zeros((int(chrs_length[i]/25000) + 1, 4)))\n",
    "for line in input_file:\n",
    "    nums = line.strip().split('\\t')\n",
    "    try:\n",
    "        chrN = int(nums[2].split('r')[1]) - 1\n",
    "    except:\n",
    "        continue\n",
    "    location = int(int(nums[3])/25000)\n",
    "    if (int(nums[4]) > 500):\n",
    "        continue\n",
    "    chromosomes[chrN][location][0] += 1 \n",
    "    chromosomes[chrN][location][1] += float(nums[4])\n",
    "    chromosomes[chrN][location][2] += float(nums[5])\n",
    "    chromosomes[chrN][location][3] += float(nums[6])\n",
    "\n",
    "for chrN in range(0, 22):\n",
    "    for location in range(0, chromosomes[chrN].shape[0]):\n",
    "        chromosomes[chrN][location][1] /= 25000\n",
    "        if chromosomes[chrN][location][0] == 0:\n",
    "            continue\n",
    "        chromosomes[chrN][location][2] /= chromosomes[chrN][location][0]\n",
    "        chromosomes[chrN][location][3] /= chromosomes[chrN][location][0]\n",
    "\n",
    "for chrN in range(0, 22):\n",
    "    print chromosomes[chrN].shape\n",
    "    np.save('./25kb_chr' + str(chrN + 1) + '.genomic.npy', chromosomes[chrN]) "
   ]
  }
 ],
 "metadata": {
  "kernelspec": {
   "display_name": "Python [default]",
   "language": "python",
   "name": "python2"
  },
  "language_info": {
   "codemirror_mode": {
    "name": "ipython",
    "version": 2
   },
   "file_extension": ".py",
   "mimetype": "text/x-python",
   "name": "python",
   "nbconvert_exporter": "python",
   "pygments_lexer": "ipython2",
   "version": "2.7.12"
  }
 },
 "nbformat": 4,
 "nbformat_minor": 1
}
