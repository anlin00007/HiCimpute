{
 "cells": [
  {
   "cell_type": "code",
   "execution_count": 1,
   "metadata": {},
   "outputs": [
    {
     "name": "stderr",
     "output_type": "stream",
     "text": [
      "C:\\Users\\leoli\\Anaconda2\\lib\\site-packages\\sklearn\\cross_validation.py:44: DeprecationWarning: This module was deprecated in version 0.18 in favor of the model_selection module into which all the refactored classes and functions are moved. Also note that the interface of the new CV iterators are different from that of this module. This module will be removed in 0.20.\n",
      "  \"This module will be removed in 0.20.\", DeprecationWarning)\n",
      "C:\\Users\\leoli\\Anaconda2\\lib\\site-packages\\sklearn\\grid_search.py:43: DeprecationWarning: This module was deprecated in version 0.18 in favor of the model_selection module into which all the refactored classes and functions are moved. This module will be removed in 0.20.\n",
      "  DeprecationWarning)\n"
     ]
    }
   ],
   "source": [
    "import numpy as np\n",
    "from scipy.stats.stats import pearsonr\n",
    "from scipy.stats.stats import spearmanr\n",
    "from sklearn.grid_search import GridSearchCV\n",
    "from sklearn import cross_validation, metrics"
   ]
  },
  {
   "cell_type": "code",
   "execution_count": 2,
   "metadata": {},
   "outputs": [],
   "source": [
    "from sklearn.model_selection import cross_val_score\n",
    "from sklearn.ensemble import RandomForestRegressor\n",
    "import numpy as np\n",
    "from sklearn import cross_validation\n",
    "from sklearn.externals import joblib\n",
    "from scipy.stats.stats import pearsonr\n",
    "import sys\n",
    "import os\n",
    "from sklearn.utils import shuffle ###replace=False\n",
    "from sklearn.metrics import mean_squared_error"
   ]
  },
  {
   "cell_type": "code",
   "execution_count": 3,
   "metadata": {
    "collapsed": true
   },
   "outputs": [],
   "source": [
    "lowerbound = 2\n",
    "totaldis = 50\n",
    "res1 = 25000\n",
    "resn1 = '25kb'\n",
    "celltype1 = 'Gm12878'"
   ]
  },
  {
   "cell_type": "code",
   "execution_count": 4,
   "metadata": {
    "collapsed": true
   },
   "outputs": [],
   "source": [
    "def geninput(lb, td, res, resn, celltype1,celltype2, chrnum, ep=True, peak=False):\n",
    "    chromhmmcount = np.genfromtxt('/Users/leoli/Desktop/ChromHMM/'+celltype1+'_'+chrnum+'_'+resn+'_18marks_chromhmm.countmat')\n",
    "    epcount = chromhmmcount[:,0]+chromhmmcount[:,8]+chromhmmcount[:,9]\n",
    "    if ep==True:\n",
    "        epindex = np.where(epcount>0)[0]\n",
    "    else:\n",
    "        epindex = np.where(epcount==0)[0]\n",
    "    #np.save('/Users/leoli/Desktop/ChromHMM/'+celltype1+'_'+chrnum+'_'+resn+'_18marks_chromhmm.epindex', epindex)\n",
    "    if peak==False:\n",
    "        chipinput = np.load('/Users/leoli/Desktop/divided_mean_'+celltype1+'_'+chrnum+'_epi_'+resn+'.npy')\n",
    "    else:\n",
    "        histoneinput = np.load('/Users/leoli/Desktop/'+celltype1+'_'+chrnum+'_HistoneonPeaks_'+resn+'.npy')\n",
    "        TFinput = np.load('/Users/leoli/Desktop/'+celltype1+'_'+chrnum+'_TFonPeaks_'+resn+'.npy')\n",
    "        chipinput = np.column_stack((histoneinput,TFinput))\n",
    "    hicinput = np.load('/Users/leoli/Desktop/'+celltype2+'.'+resn+'.'+chrnum+'.matrix.npy')\n",
    "    genomicinput = np.load('/Users/leoli/Desktop/'+resn+'_'+chrnum+'.genomic.npy')\n",
    "    featinput = np.column_stack((chipinput,genomicinput))\n",
    "\n",
    "    if np.shape(hicinput)[0] != np.shape(chipinput)[0]:\n",
    "        print 'HiC matrix has different row number with feature matrix'\n",
    "    m,n=np.indices(hicinput.shape)\n",
    "    ncol = np.shape(featinput)[1]\n",
    "    outmat = np.empty((0,1+2*ncol+1), int)\n",
    "    for i in range(lb,td):\n",
    "        hic = hicinput[m==n-i]/np.mean(hicinput[m==n-i])\n",
    "        epindex1 = epindex[epindex<(np.shape(hicinput)[0]-i)]\n",
    "        epindex2 = epindex - i\n",
    "        epindex2 = epindex2[epindex2>=0]\n",
    "        ind = np.intersect1d(epindex1, epindex2)\n",
    "        hicfinal = hic[ind]\n",
    "        loc1 = np.take(featinput,ind, axis=0)\n",
    "        loc2 = np.take(featinput,ind+i, axis=0)\n",
    "        if np.shape(hicfinal)[0] != np.shape(loc1)[0]:\n",
    "            print 'problem'\n",
    "        dis = np.array([i]*len(hicfinal))\n",
    "        sampleATdis = np.column_stack((hicfinal,loc1+loc2,abs(loc1-loc2),dis))\n",
    "        outmat = np.append(outmat, sampleATdis,axis = 0)\n",
    "    return (outmat[:,0], outmat[:,1::])"
   ]
  },
  {
   "cell_type": "code",
   "execution_count": 5,
   "metadata": {
    "collapsed": true
   },
   "outputs": [],
   "source": [
    "def genhic(lb, td, res, resn, celltype1,celltype2, chrnum, ep=True):\n",
    "    chromhmmcount = np.genfromtxt('/Users/leoli/Desktop/ChromHMM/'+celltype1+'_'+chrnum+'_'+resn+'_18marks_chromhmm.countmat')\n",
    "    epcount = chromhmmcount[:,0]+chromhmmcount[:,8]+chromhmmcount[:,9]\n",
    "    if ep==True:\n",
    "        epindex = np.where(epcount>0)[0]\n",
    "    else:\n",
    "        epindex = np.where(epcount==0)[0]\n",
    "    hicinput = np.load('/Users/leoli/Desktop/'+celltype2+'.'+resn+'.'+chrnum+'.matrix.npy')\n",
    "    m,n=np.indices(hicinput.shape)\n",
    "    hicall = np.array([])\n",
    "    for i in range(lb,td):\n",
    "        hic = hicinput[m==n-i]#/np.mean(hicinput[m==n-i])\n",
    "        epindex1 = epindex[epindex<(np.shape(hicinput)[0]-i)]\n",
    "        epindex2 = epindex - i\n",
    "        epindex2 = epindex2[epindex2>=0]\n",
    "        ind = np.intersect1d(epindex1, epindex2)\n",
    "        hicfinal = hic[ind]\n",
    "        hicall = np.append(hicall,hicfinal)\n",
    "    return hicall"
   ]
  },
  {
   "cell_type": "code",
   "execution_count": 6,
   "metadata": {},
   "outputs": [],
   "source": [
    "labelsTrain, featuresTrain = geninput(lowerbound, totaldis, res1, resn1, celltype1, 'Gm12878_replicate', 'chr1', ep=True, peak=False)"
   ]
  },
  {
   "cell_type": "code",
   "execution_count": 7,
   "metadata": {
    "collapsed": true
   },
   "outputs": [],
   "source": [
    "labelsTest, featuresTest = geninput(lowerbound, totaldis, res1, resn1, celltype1, 'Gm12878_replicate', 'chr18', ep=True, peak=False)"
   ]
  },
  {
   "cell_type": "code",
   "execution_count": 9,
   "metadata": {
    "collapsed": true
   },
   "outputs": [],
   "source": [
    "labelsTrain2, featuresTrain2 = geninput(lowerbound, totaldis, res1, resn1, celltype1, 'Gm12878_replicate', 'chr1', ep=False, peak=False)"
   ]
  },
  {
   "cell_type": "code",
   "execution_count": 10,
   "metadata": {
    "collapsed": true
   },
   "outputs": [],
   "source": [
    "labelsTest2, featuresTest2 = geninput(lowerbound, totaldis, res1, resn1, celltype1, 'Gm12878_replicate', 'chr18', ep=False, peak=False)"
   ]
  },
  {
   "cell_type": "code",
   "execution_count": 10,
   "metadata": {
    "collapsed": true
   },
   "outputs": [],
   "source": [
    "primarylabel = genhic(lowerbound, totaldis, res1, resn1, 'Gm12878','Gm12878_primary', 'chr18', ep=True)"
   ]
  },
  {
   "cell_type": "code",
   "execution_count": 11,
   "metadata": {
    "collapsed": true
   },
   "outputs": [],
   "source": [
    "k562label = genhic(lowerbound, totaldis, res1, resn1,'Gm12878','K562', 'chr18', ep=True)"
   ]
  },
  {
   "cell_type": "code",
   "execution_count": 12,
   "metadata": {
    "collapsed": true
   },
   "outputs": [],
   "source": [
    "wholegenwidepredlabel = genhic(lowerbound, totaldis, res1, resn1,'Gm12878','Gm12878_RFpred', 'chr18', ep=True)"
   ]
  },
  {
   "cell_type": "code",
   "execution_count": 13,
   "metadata": {
    "collapsed": true
   },
   "outputs": [],
   "source": [
    "k562label_noep = genhic(lowerbound, totaldis, res1, resn1,'Gm12878','K562', 'chr18', ep=False)"
   ]
  },
  {
   "cell_type": "code",
   "execution_count": 14,
   "metadata": {
    "collapsed": true
   },
   "outputs": [],
   "source": [
    "primarylabel_noep = genhic(lowerbound, totaldis, res1, resn1, 'Gm12878','Gm12878_primary', 'chr18', ep=False)"
   ]
  },
  {
   "cell_type": "code",
   "execution_count": 10,
   "metadata": {},
   "outputs": [
    {
     "data": {
      "text/plain": [
       "RandomForestRegressor(bootstrap=True, criterion='mse', max_depth=None,\n",
       "           max_features=11L, max_leaf_nodes=None, min_impurity_split=1e-07,\n",
       "           min_samples_leaf=3, min_samples_split=2,\n",
       "           min_weight_fraction_leaf=0.0, n_estimators=200, n_jobs=20,\n",
       "           oob_score='True', random_state=None, verbose=0,\n",
       "           warm_start=False)"
      ]
     },
     "execution_count": 10,
     "metadata": {},
     "output_type": "execute_result"
    }
   ],
   "source": [
    "numoff = np.shape(featuresTrain)[1]\n",
    "numoftree=200\n",
    "model = RandomForestRegressor(n_estimators=numoftree, n_jobs=20, max_features=(numoff/3), min_samples_leaf = 3, oob_score=\"True\")\n",
    "model.fit(featuresTrain, labelsTrain)"
   ]
  },
  {
   "cell_type": "code",
   "execution_count": null,
   "metadata": {},
   "outputs": [],
   "source": [
    "numoff = np.shape(featuresTrain)[1]\n",
    "param_test1 = {'n_estimators':range(10,50,10),'criterion':[\"mse\",\"mae\"]}\n",
    "gsearch1 = GridSearchCV(estimator = RandomForestRegressor(max_features=(numoff/3) ,random_state=10), \n",
    "                       param_grid = param_test1,cv=5)\n",
    "gsearch1.fit(featuresTrain, labelsTrain)\n",
    "gsearch1.grid_scores_, gsearch1.best_params_, gsearch1.best_score_"
   ]
  },
  {
   "cell_type": "code",
   "execution_count": 11,
   "metadata": {},
   "outputs": [
    {
     "data": {
      "text/plain": [
       "0.27871952474076733"
      ]
     },
     "execution_count": 11,
     "metadata": {},
     "output_type": "execute_result"
    }
   ],
   "source": [
    "model.oob_score_"
   ]
  },
  {
   "cell_type": "code",
   "execution_count": 17,
   "metadata": {},
   "outputs": [
    {
     "data": {
      "text/plain": [
       "(31953L,)"
      ]
     },
     "execution_count": 17,
     "metadata": {},
     "output_type": "execute_result"
    }
   ],
   "source": [
    "np.shape(labelsTrain)"
   ]
  },
  {
   "cell_type": "code",
   "execution_count": 16,
   "metadata": {},
   "outputs": [
    {
     "data": {
      "text/plain": [
       "0.1527798178873567"
      ]
     },
     "execution_count": 16,
     "metadata": {},
     "output_type": "execute_result"
    }
   ],
   "source": [
    "scores = cross_val_score(model, featuresTrain, labelsTrain)\n",
    "scores.mean()"
   ]
  },
  {
   "cell_type": "code",
   "execution_count": 12,
   "metadata": {},
   "outputs": [
    {
     "data": {
      "text/plain": [
       "RandomForestRegressor(bootstrap=True, criterion='mse', max_depth=None,\n",
       "           max_features=11L, max_leaf_nodes=None, min_impurity_split=1e-07,\n",
       "           min_samples_leaf=3, min_samples_split=2,\n",
       "           min_weight_fraction_leaf=0.0, n_estimators=200, n_jobs=20,\n",
       "           oob_score='True', random_state=None, verbose=0,\n",
       "           warm_start=False)"
      ]
     },
     "execution_count": 12,
     "metadata": {},
     "output_type": "execute_result"
    }
   ],
   "source": [
    "numoff2 = np.shape(featuresTrain2)[1]\n",
    "numoftree=200\n",
    "model2 = RandomForestRegressor(n_estimators=numoftree, n_jobs=20, max_features=(numoff2/3), min_samples_leaf = 3, oob_score=\"True\")\n",
    "model2.fit(featuresTrain2, labelsTrain2)"
   ]
  },
  {
   "cell_type": "code",
   "execution_count": 13,
   "metadata": {},
   "outputs": [
    {
     "data": {
      "text/plain": [
       "0.59767760233569378"
      ]
     },
     "execution_count": 13,
     "metadata": {},
     "output_type": "execute_result"
    }
   ],
   "source": [
    "model2.oob_score_"
   ]
  },
  {
   "cell_type": "code",
   "execution_count": 18,
   "metadata": {},
   "outputs": [
    {
     "data": {
      "text/plain": [
       "0.52105326660701612"
      ]
     },
     "execution_count": 18,
     "metadata": {},
     "output_type": "execute_result"
    }
   ],
   "source": [
    "scores = cross_val_score(model2, featuresTrain2, labelsTrain2)\n",
    "scores.mean()"
   ]
  },
  {
   "cell_type": "code",
   "execution_count": 17,
   "metadata": {},
   "outputs": [
    {
     "name": "stdout",
     "output_type": "stream",
     "text": [
      "mse of training 200 0.191613071942\n"
     ]
    }
   ],
   "source": [
    "predictedtrainLabels = model.predict(featuresTrain)\n",
    "print 'mse of training '+str(numoftree),mean_squared_error(labelsTrain,predictedtrainLabels)"
   ]
  },
  {
   "cell_type": "code",
   "execution_count": 18,
   "metadata": {},
   "outputs": [
    {
     "name": "stdout",
     "output_type": "stream",
     "text": [
      "mse of testing 200 0.829700450124\n"
     ]
    }
   ],
   "source": [
    "predictedtestLabels = model.predict(featuresTest)\n",
    "print 'mse of testing '+str(numoftree),mean_squared_error(labelsTest,predictedtestLabels)"
   ]
  },
  {
   "cell_type": "code",
   "execution_count": 19,
   "metadata": {},
   "outputs": [
    {
     "name": "stdout",
     "output_type": "stream",
     "text": [
      "mse of training 200 0.0803259616413\n"
     ]
    }
   ],
   "source": [
    "predictedtrainLabels2 = model2.predict(featuresTrain2)\n",
    "print 'mse of training '+str(numoftree),mean_squared_error(labelsTrain2,predictedtrainLabels2)"
   ]
  },
  {
   "cell_type": "code",
   "execution_count": 20,
   "metadata": {},
   "outputs": [
    {
     "name": "stdout",
     "output_type": "stream",
     "text": [
      "mse of testing 200 0.293622743201\n"
     ]
    }
   ],
   "source": [
    "predictedtestLabels2 = model2.predict(featuresTest2)\n",
    "print 'mse of testing '+str(numoftree),mean_squared_error(labelsTest2,predictedtestLabels2)"
   ]
  },
  {
   "cell_type": "code",
   "execution_count": 21,
   "metadata": {
    "collapsed": true
   },
   "outputs": [],
   "source": [
    "def bydiscor (mat1,mat2,dis,lowerb, totald):\n",
    "    pcor = [0]*totald\n",
    "    scor = [0]*totald\n",
    "    if np.shape(mat1) != np.shape(mat2):\n",
    "        print \"error, shapes are different!\"\n",
    "    for i in range(lowerb,totald):\n",
    "        hic1 = mat1[np.where(dis==i)]\n",
    "        hic2 = mat2[np.where(dis==i)]\n",
    "        pcor[i] = pearsonr(hic1,hic2)[0]\n",
    "        scor[i] = spearmanr(hic1,hic2)[0]\n",
    "    return (pcor,scor)"
   ]
  },
  {
   "cell_type": "code",
   "execution_count": 22,
   "metadata": {
    "collapsed": true
   },
   "outputs": [],
   "source": [
    "p,s=bydiscor(predictedtestLabels,labelsTest, featuresTest[:,-1],lowerbound,totaldis)"
   ]
  },
  {
   "cell_type": "code",
   "execution_count": 23,
   "metadata": {
    "collapsed": true
   },
   "outputs": [],
   "source": [
    "p2,s2=bydiscor(primarylabel,labelsTest, featuresTest[:,-1],lowerbound,totaldis)"
   ]
  },
  {
   "cell_type": "code",
   "execution_count": 24,
   "metadata": {
    "collapsed": true
   },
   "outputs": [],
   "source": [
    "p3,s3=bydiscor(k562label,labelsTest, featuresTest[:,-1],lowerbound,totaldis)"
   ]
  },
  {
   "cell_type": "code",
   "execution_count": 25,
   "metadata": {
    "collapsed": true
   },
   "outputs": [],
   "source": [
    "p4,s4=bydiscor(predictedtestLabels2,labelsTest2, featuresTest2[:,-1],lowerbound,totaldis)"
   ]
  },
  {
   "cell_type": "code",
   "execution_count": 26,
   "metadata": {
    "collapsed": true
   },
   "outputs": [],
   "source": [
    "p5,s5=bydiscor(wholegenwidepredlabel,labelsTest, featuresTest[:,-1],lowerbound,totaldis)"
   ]
  },
  {
   "cell_type": "code",
   "execution_count": 27,
   "metadata": {
    "collapsed": true
   },
   "outputs": [],
   "source": [
    "p6,s6=bydiscor(k562label_noep,labelsTest2, featuresTest2[:,-1],lowerbound,totaldis)"
   ]
  },
  {
   "cell_type": "code",
   "execution_count": 28,
   "metadata": {
    "collapsed": true
   },
   "outputs": [],
   "source": [
    "p7,s7=bydiscor(primarylabel_noep,labelsTest2, featuresTest2[:,-1],lowerbound,totaldis)"
   ]
  },
  {
   "cell_type": "code",
   "execution_count": 29,
   "metadata": {},
   "outputs": [
    {
     "data": {
      "image/png": "[encoded data removed]",
      "text/plain": [
       "<matplotlib.figure.Figure at 0x8641278>"
      ]
     },
     "metadata": {},
     "output_type": "display_data"
    }
   ],
   "source": [
    "import matplotlib.pyplot as plt\n",
    "# Plot\n",
    "X = range(0, totaldis)\n",
    "plt.plot(X, p, color='k', label='RF_on_EP',linewidth=3)\n",
    "plt.plot(X, p2, color='r', label='Rep',linewidth=3)\n",
    "plt.plot(X, p3, color='b', label='K562',linewidth=3)\n",
    "plt.plot(X, p4, color='g', label='RF_on_nonEP',linewidth=3)\n",
    "plt.plot(X, p5, color='y', label='RF_on_whole',linewidth=3)\n",
    "plt.plot(X, p6, color='c', label='K562_noEP',linewidth=3)\n",
    "plt.plot(X, p7, color='m', label='Rep_noEP',linewidth=3)\n",
    "plt.title('By distance correlation')\n",
    "plt.ylim(-0.1,1)\n",
    "plt.xlim(2,50)\n",
    "plt.xlabel('Genomic Distance')\n",
    "plt.ylabel('Correlation')\n",
    "plt.legend()\n",
    "plt.show()"
   ]
  },
  {
   "cell_type": "code",
   "execution_count": 30,
   "metadata": {},
   "outputs": [
    {
     "data": {
      "image/png": "[encoded data removed]",
      "text/plain": [
       "<matplotlib.figure.Figure at 0x18f7b240>"
      ]
     },
     "metadata": {},
     "output_type": "display_data"
    }
   ],
   "source": [
    "import matplotlib.pyplot as plt\n",
    "# Plot\n",
    "X = range(0, totaldis)\n",
    "plt.plot(X, s, color='k', label='RF_on_EP',linewidth=3)\n",
    "plt.plot(X, s2, color='r', label='Rep',linewidth=3)\n",
    "plt.plot(X, s3, color='b', label='K562',linewidth=3)\n",
    "plt.plot(X, s4, color='g', label='RF_on_nonEP',linewidth=3)\n",
    "plt.plot(X, s5, color='y', label='RF_on_whole',linewidth=3)\n",
    "plt.plot(X, s6, color='c', label='K562_noEP',linewidth=3)\n",
    "plt.plot(X, s7, color='m', label='Rep_noEP',linewidth=3)\n",
    "plt.title('By distance correlation')\n",
    "plt.ylim(-0.1,1)\n",
    "plt.xlim(2,50)\n",
    "plt.xlabel('Genomic Distance')\n",
    "plt.ylabel('Correlation')\n",
    "plt.legend()\n",
    "plt.show()"
   ]
  },
  {
   "cell_type": "code",
   "execution_count": 39,
   "metadata": {},
   "outputs": [
    {
     "data": {
      "text/plain": [
       "144110"
      ]
     },
     "execution_count": 39,
     "metadata": {},
     "output_type": "execute_result"
    }
   ],
   "source": [
    "len(labelsTest2)"
   ]
  },
  {
   "cell_type": "code",
   "execution_count": null,
   "metadata": {
    "collapsed": true
   },
   "outputs": [],
   "source": []
  }
 ],
 "metadata": {
  "anaconda-cloud": {},
  "kernelspec": {
   "display_name": "Python 2",
   "language": "python",
   "name": "python2"
  },
  "language_info": {
   "codemirror_mode": {
    "name": "ipython",
    "version": 2
   },
   "file_extension": ".py",
   "mimetype": "text/x-python",
   "name": "python",
   "nbconvert_exporter": "python",
   "pygments_lexer": "ipython2",
   "version": "2.7.13"
  }
 },
 "nbformat": 4,
 "nbformat_minor": 2
}
